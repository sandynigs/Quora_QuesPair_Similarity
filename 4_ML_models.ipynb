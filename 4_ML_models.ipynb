{
  "nbformat": 4,
  "nbformat_minor": 0,
  "metadata": {
    "colab": {
      "name": "4.ML_models.ipynb",
      "provenance": [],
      "collapsed_sections": [],
      "include_colab_link": true
    },
    "kernelspec": {
      "display_name": "Python 3",
      "language": "python",
      "name": "python3"
    },
    "language_info": {
      "codemirror_mode": {
        "name": "ipython",
        "version": 3
      },
      "file_extension": ".py",
      "mimetype": "text/x-python",
      "name": "python",
      "nbconvert_exporter": "python",
      "pygments_lexer": "ipython3",
      "version": "3.7.4"
    },
    "toc": {
      "base_numbering": 1,
      "nav_menu": {},
      "number_sections": true,
      "sideBar": true,
      "skip_h1_title": false,
      "title_cell": "Table of Contents",
      "title_sidebar": "Contents",
      "toc_cell": false,
      "toc_position": {},
      "toc_section_display": true,
      "toc_window_display": false
    }
  },
  "cells": [
    {
      "cell_type": "markdown",
      "metadata": {
        "id": "view-in-github",
        "colab_type": "text"
      },
      "source": [
        "<a href=\"https://colab.research.google.com/github/sandynigs/Quora_QuesPair_Similarity/blob/master/4_ML_models.ipynb\" target=\"_parent\"><img src=\"https://colab.research.google.com/assets/colab-badge.svg\" alt=\"Open In Colab\"/></a>"
      ]
    },
    {
      "cell_type": "code",
      "metadata": {
        "id": "6VXPfRp-tARR"
      },
      "source": [
        "import pandas as pd\n",
        "import matplotlib.pyplot as plt\n",
        "import re\n",
        "import time\n",
        "import warnings\n",
        "import sqlite3\n",
        "from sqlalchemy import create_engine # database connection\n",
        "import csv\n",
        "import os\n",
        "warnings.filterwarnings(\"ignore\")\n",
        "import datetime as dt\n",
        "import numpy as np\n",
        "from nltk.corpus import stopwords\n",
        "from sklearn.decomposition import TruncatedSVD\n",
        "from sklearn.preprocessing import normalize\n",
        "from sklearn.feature_extraction.text import CountVectorizer\n",
        "from sklearn.manifold import TSNE\n",
        "import seaborn as sns\n",
        "from sklearn.neighbors import KNeighborsClassifier\n",
        "from sklearn.metrics import confusion_matrix\n",
        "from sklearn.metrics.classification import accuracy_score, log_loss\n",
        "from sklearn.feature_extraction.text import TfidfVectorizer\n",
        "from collections import Counter\n",
        "from scipy.sparse import hstack\n",
        "from sklearn.multiclass import OneVsRestClassifier\n",
        "from sklearn.svm import SVC\n",
        "from sklearn.model_selection import StratifiedKFold \n",
        "from collections import Counter, defaultdict\n",
        "from sklearn.calibration import CalibratedClassifierCV\n",
        "from sklearn.naive_bayes import MultinomialNB\n",
        "from sklearn.naive_bayes import GaussianNB\n",
        "from sklearn.model_selection import train_test_split\n",
        "from sklearn.model_selection import GridSearchCV\n",
        "import math\n",
        "from sklearn.metrics import normalized_mutual_info_score\n",
        "from sklearn.ensemble import RandomForestClassifier\n",
        "from sklearn.model_selection import cross_val_score\n",
        "from sklearn.linear_model import SGDClassifier\n",
        "from mlxtend.classifier import StackingClassifier\n",
        "from xgboost import XGBClassifier\n",
        "from sklearn import model_selection\n",
        "from sklearn.linear_model import LogisticRegression\n",
        "from sklearn.metrics import precision_recall_curve, auc, roc_curve"
      ],
      "execution_count": 1,
      "outputs": []
    },
    {
      "cell_type": "code",
      "metadata": {
        "id": "ZAOo0g0qpSkD",
        "outputId": "c35e3e3d-4450-4bf2-c456-8f19406b1b1b",
        "colab": {
          "base_uri": "https://localhost:8080/",
          "height": 35
        }
      },
      "source": [
        "from google.colab import drive\n",
        "drive.mount('/content/drive')"
      ],
      "execution_count": 2,
      "outputs": [
        {
          "output_type": "stream",
          "text": [
            "Mounted at /content/drive\n"
          ],
          "name": "stdout"
        }
      ]
    },
    {
      "cell_type": "markdown",
      "metadata": {
        "id": "ZihvUPvHtARd"
      },
      "source": [
        "<h1>4. Machine Learning Models </h1>"
      ]
    },
    {
      "cell_type": "markdown",
      "metadata": {
        "id": "CtN9VBPutARf"
      },
      "source": [
        "<h2> 4.1 Reading data from file and storing into sql table </h2>"
      ]
    },
    {
      "cell_type": "code",
      "metadata": {
        "id": "owBQdjY1tARh"
      },
      "source": [
        "# #Creating db file from csv\n",
        "# if not os.path.isfile('/content/drive/My Drive/Quora/train.db'):\n",
        "#     disk_engine = create_engine('sqlite:///train.db')\n",
        "#     start = dt.datetime.now()\n",
        "#     chunksize = 180000\n",
        "#     j = 0\n",
        "#     index_start = 1\n",
        "#     for df in pd.read_csv('final_features.csv', names=['Unnamed: 0','id','is_duplicate','cwc_min','cwc_max','csc_min','csc_max','ctc_min','ctc_max','last_word_eq','first_word_eq','abs_len_diff','mean_len','token_set_ratio','token_sort_ratio','fuzz_ratio','fuzz_partial_ratio','longest_substr_ratio','freq_qid1','freq_qid2','q1len','q2len','q1_n_words','q2_n_words','word_Common','word_Total','word_share','freq_q1+q2','freq_q1-q2','0_x','1_x','2_x','3_x','4_x','5_x','6_x','7_x','8_x','9_x','10_x','11_x','12_x','13_x','14_x','15_x','16_x','17_x','18_x','19_x','20_x','21_x','22_x','23_x','24_x','25_x','26_x','27_x','28_x','29_x','30_x','31_x','32_x','33_x','34_x','35_x','36_x','37_x','38_x','39_x','40_x','41_x','42_x','43_x','44_x','45_x','46_x','47_x','48_x','49_x','50_x','51_x','52_x','53_x','54_x','55_x','56_x','57_x','58_x','59_x','60_x','61_x','62_x','63_x','64_x','65_x','66_x','67_x','68_x','69_x','70_x','71_x','72_x','73_x','74_x','75_x','76_x','77_x','78_x','79_x','80_x','81_x','82_x','83_x','84_x','85_x','86_x','87_x','88_x','89_x','90_x','91_x','92_x','93_x','94_x','95_x','96_x','97_x','98_x','99_x','100_x','101_x','102_x','103_x','104_x','105_x','106_x','107_x','108_x','109_x','110_x','111_x','112_x','113_x','114_x','115_x','116_x','117_x','118_x','119_x','120_x','121_x','122_x','123_x','124_x','125_x','126_x','127_x','128_x','129_x','130_x','131_x','132_x','133_x','134_x','135_x','136_x','137_x','138_x','139_x','140_x','141_x','142_x','143_x','144_x','145_x','146_x','147_x','148_x','149_x','150_x','151_x','152_x','153_x','154_x','155_x','156_x','157_x','158_x','159_x','160_x','161_x','162_x','163_x','164_x','165_x','166_x','167_x','168_x','169_x','170_x','171_x','172_x','173_x','174_x','175_x','176_x','177_x','178_x','179_x','180_x','181_x','182_x','183_x','184_x','185_x','186_x','187_x','188_x','189_x','190_x','191_x','192_x','193_x','194_x','195_x','196_x','197_x','198_x','199_x','200_x','201_x','202_x','203_x','204_x','205_x','206_x','207_x','208_x','209_x','210_x','211_x','212_x','213_x','214_x','215_x','216_x','217_x','218_x','219_x','220_x','221_x','222_x','223_x','224_x','225_x','226_x','227_x','228_x','229_x','230_x','231_x','232_x','233_x','234_x','235_x','236_x','237_x','238_x','239_x','240_x','241_x','242_x','243_x','244_x','245_x','246_x','247_x','248_x','249_x','250_x','251_x','252_x','253_x','254_x','255_x','256_x','257_x','258_x','259_x','260_x','261_x','262_x','263_x','264_x','265_x','266_x','267_x','268_x','269_x','270_x','271_x','272_x','273_x','274_x','275_x','276_x','277_x','278_x','279_x','280_x','281_x','282_x','283_x','284_x','285_x','286_x','287_x','288_x','289_x','290_x','291_x','292_x','293_x','294_x','295_x','296_x','297_x','298_x','299_x','300_x','301_x','302_x','303_x','304_x','305_x','306_x','307_x','308_x','309_x','310_x','311_x','312_x','313_x','314_x','315_x','316_x','317_x','318_x','319_x','320_x','321_x','322_x','323_x','324_x','325_x','326_x','327_x','328_x','329_x','330_x','331_x','332_x','333_x','334_x','335_x','336_x','337_x','338_x','339_x','340_x','341_x','342_x','343_x','344_x','345_x','346_x','347_x','348_x','349_x','350_x','351_x','352_x','353_x','354_x','355_x','356_x','357_x','358_x','359_x','360_x','361_x','362_x','363_x','364_x','365_x','366_x','367_x','368_x','369_x','370_x','371_x','372_x','373_x','374_x','375_x','376_x','377_x','378_x','379_x','380_x','381_x','382_x','383_x','0_y','1_y','2_y','3_y','4_y','5_y','6_y','7_y','8_y','9_y','10_y','11_y','12_y','13_y','14_y','15_y','16_y','17_y','18_y','19_y','20_y','21_y','22_y','23_y','24_y','25_y','26_y','27_y','28_y','29_y','30_y','31_y','32_y','33_y','34_y','35_y','36_y','37_y','38_y','39_y','40_y','41_y','42_y','43_y','44_y','45_y','46_y','47_y','48_y','49_y','50_y','51_y','52_y','53_y','54_y','55_y','56_y','57_y','58_y','59_y','60_y','61_y','62_y','63_y','64_y','65_y','66_y','67_y','68_y','69_y','70_y','71_y','72_y','73_y','74_y','75_y','76_y','77_y','78_y','79_y','80_y','81_y','82_y','83_y','84_y','85_y','86_y','87_y','88_y','89_y','90_y','91_y','92_y','93_y','94_y','95_y','96_y','97_y','98_y','99_y','100_y','101_y','102_y','103_y','104_y','105_y','106_y','107_y','108_y','109_y','110_y','111_y','112_y','113_y','114_y','115_y','116_y','117_y','118_y','119_y','120_y','121_y','122_y','123_y','124_y','125_y','126_y','127_y','128_y','129_y','130_y','131_y','132_y','133_y','134_y','135_y','136_y','137_y','138_y','139_y','140_y','141_y','142_y','143_y','144_y','145_y','146_y','147_y','148_y','149_y','150_y','151_y','152_y','153_y','154_y','155_y','156_y','157_y','158_y','159_y','160_y','161_y','162_y','163_y','164_y','165_y','166_y','167_y','168_y','169_y','170_y','171_y','172_y','173_y','174_y','175_y','176_y','177_y','178_y','179_y','180_y','181_y','182_y','183_y','184_y','185_y','186_y','187_y','188_y','189_y','190_y','191_y','192_y','193_y','194_y','195_y','196_y','197_y','198_y','199_y','200_y','201_y','202_y','203_y','204_y','205_y','206_y','207_y','208_y','209_y','210_y','211_y','212_y','213_y','214_y','215_y','216_y','217_y','218_y','219_y','220_y','221_y','222_y','223_y','224_y','225_y','226_y','227_y','228_y','229_y','230_y','231_y','232_y','233_y','234_y','235_y','236_y','237_y','238_y','239_y','240_y','241_y','242_y','243_y','244_y','245_y','246_y','247_y','248_y','249_y','250_y','251_y','252_y','253_y','254_y','255_y','256_y','257_y','258_y','259_y','260_y','261_y','262_y','263_y','264_y','265_y','266_y','267_y','268_y','269_y','270_y','271_y','272_y','273_y','274_y','275_y','276_y','277_y','278_y','279_y','280_y','281_y','282_y','283_y','284_y','285_y','286_y','287_y','288_y','289_y','290_y','291_y','292_y','293_y','294_y','295_y','296_y','297_y','298_y','299_y','300_y','301_y','302_y','303_y','304_y','305_y','306_y','307_y','308_y','309_y','310_y','311_y','312_y','313_y','314_y','315_y','316_y','317_y','318_y','319_y','320_y','321_y','322_y','323_y','324_y','325_y','326_y','327_y','328_y','329_y','330_y','331_y','332_y','333_y','334_y','335_y','336_y','337_y','338_y','339_y','340_y','341_y','342_y','343_y','344_y','345_y','346_y','347_y','348_y','349_y','350_y','351_y','352_y','353_y','354_y','355_y','356_y','357_y','358_y','359_y','360_y','361_y','362_y','363_y','364_y','365_y','366_y','367_y','368_y','369_y','370_y','371_y','372_y','373_y','374_y','375_y','376_y','377_y','378_y','379_y','380_y','381_y','382_y','383_y'], chunksize=chunksize, iterator=True, encoding='utf-8', ):\n",
        "#         df.index += index_start\n",
        "#         j+=1\n",
        "#         print('{} rows'.format(j*chunksize))\n",
        "#         df.to_sql('data', disk_engine, if_exists='append')\n",
        "#         index_start = df.index[-1] + 1"
      ],
      "execution_count": null,
      "outputs": []
    },
    {
      "cell_type": "code",
      "metadata": {
        "id": "4hpD3aBktARn"
      },
      "source": [
        "# #http://www.sqlitetutorial.net/sqlite-python/create-tables/\n",
        "# def create_connection(db_file):\n",
        "#     \"\"\" create a database connection to the SQLite database\n",
        "#         specified by db_file\n",
        "#     :param db_file: database file\n",
        "#     :return: Connection object or None\n",
        "#     \"\"\"\n",
        "#     try:\n",
        "#         conn = sqlite3.connect(db_file)\n",
        "#         return conn\n",
        "#     except Error as e:\n",
        "#         print(e)\n",
        " \n",
        "#     return None\n",
        "\n",
        "\n",
        "# def checkTableExists(dbcon):\n",
        "#     cursr = dbcon.cursor()\n",
        "#     str = \"select name from sqlite_master where type='table'\"\n",
        "#     table_names = cursr.execute(str)\n",
        "#     print(\"Tables in the databse:\")\n",
        "#     tables =table_names.fetchall() \n",
        "#     print(tables[0][0])\n",
        "#     return(len(tables))"
      ],
      "execution_count": null,
      "outputs": []
    },
    {
      "cell_type": "code",
      "metadata": {
        "id": "nR8ZIUnttARs",
        "outputId": "24491ba9-a6b8-458f-b854-041b011bcf9e",
        "colab": {
          "base_uri": "https://localhost:8080/",
          "height": 52
        }
      },
      "source": [
        "# read_db = '/content/drive/My Drive/Quora/train.db'\n",
        "# conn_r = create_connection(read_db)\n",
        "# checkTableExists(conn_r)\n",
        "# conn_r.close()"
      ],
      "execution_count": null,
      "outputs": [
        {
          "output_type": "stream",
          "text": [
            "Tables in the databse:\n",
            "data\n"
          ],
          "name": "stdout"
        }
      ]
    },
    {
      "cell_type": "code",
      "metadata": {
        "id": "SZq5gaaztARy"
      },
      "source": [
        "# # try to sample data according to the computing power you have\n",
        "# if os.path.isfile(read_db):\n",
        "#     conn_r = create_connection(read_db)\n",
        "#     if conn_r is not None:\n",
        "#         # for selecting first 1M rows\n",
        "#         # data = pd.read_sql_query(\"\"\"SELECT * FROM data LIMIT 100001;\"\"\", conn_r)\n",
        "        \n",
        "#         # for selecting random points\n",
        "#         data = pd.read_sql_query(\"SELECT * From data ORDER BY RANDOM() LIMIT 100001;\", conn_r)\n",
        "#         conn_r.commit()\n",
        "#         conn_r.close()"
      ],
      "execution_count": null,
      "outputs": []
    },
    {
      "cell_type": "code",
      "metadata": {
        "id": "ISgGEK2oCJyz"
      },
      "source": [
        "data = pd.read_csv('/content/drive/My Drive/Colab Notebooks/QuoraQuestionPairSimilarity/new_final_features.csv', encoding='latin-1').sample(n=100001)"
      ],
      "execution_count": 3,
      "outputs": []
    },
    {
      "cell_type": "code",
      "metadata": {
        "id": "ZkeBKktKtAR3"
      },
      "source": [
        "# remove the first row \n",
        "data.drop(data.index[0], inplace=True)\n",
        "y_true = data['is_duplicate']\n",
        "data.drop(['Unnamed: 0', 'id','is_duplicate'], axis=1, inplace=True)"
      ],
      "execution_count": 4,
      "outputs": []
    },
    {
      "cell_type": "code",
      "metadata": {
        "id": "QKSenpsmtAR9",
        "outputId": "173f43bc-5a54-4d12-dbf1-755d05211521",
        "colab": {
          "base_uri": "https://localhost:8080/",
          "height": 269
        }
      },
      "source": [
        "data.head()"
      ],
      "execution_count": 8,
      "outputs": [
        {
          "output_type": "execute_result",
          "data": {
            "text/html": [
              "<div>\n",
              "<style scoped>\n",
              "    .dataframe tbody tr th:only-of-type {\n",
              "        vertical-align: middle;\n",
              "    }\n",
              "\n",
              "    .dataframe tbody tr th {\n",
              "        vertical-align: top;\n",
              "    }\n",
              "\n",
              "    .dataframe thead th {\n",
              "        text-align: right;\n",
              "    }\n",
              "</style>\n",
              "<table border=\"1\" class=\"dataframe\">\n",
              "  <thead>\n",
              "    <tr style=\"text-align: right;\">\n",
              "      <th></th>\n",
              "      <th>cwc_min</th>\n",
              "      <th>cwc_max</th>\n",
              "      <th>csc_min</th>\n",
              "      <th>csc_max</th>\n",
              "      <th>ctc_min</th>\n",
              "      <th>ctc_max</th>\n",
              "      <th>last_word_eq</th>\n",
              "      <th>first_word_eq</th>\n",
              "      <th>abs_len_diff</th>\n",
              "      <th>mean_len</th>\n",
              "      <th>token_set_ratio</th>\n",
              "      <th>token_sort_ratio</th>\n",
              "      <th>fuzz_ratio</th>\n",
              "      <th>fuzz_partial_ratio</th>\n",
              "      <th>longest_substr_ratio</th>\n",
              "      <th>freq_qid1</th>\n",
              "      <th>freq_qid2</th>\n",
              "      <th>q1len</th>\n",
              "      <th>q2len</th>\n",
              "      <th>q1_n_words</th>\n",
              "      <th>q2_n_words</th>\n",
              "      <th>word_Common</th>\n",
              "      <th>word_Total</th>\n",
              "      <th>word_share</th>\n",
              "      <th>freq_q1+q2</th>\n",
              "      <th>freq_q1-q2</th>\n",
              "      <th>0_x</th>\n",
              "      <th>1_x</th>\n",
              "      <th>2_x</th>\n",
              "      <th>3_x</th>\n",
              "      <th>4_x</th>\n",
              "      <th>5_x</th>\n",
              "      <th>6_x</th>\n",
              "      <th>7_x</th>\n",
              "      <th>8_x</th>\n",
              "      <th>9_x</th>\n",
              "      <th>10_x</th>\n",
              "      <th>11_x</th>\n",
              "      <th>12_x</th>\n",
              "      <th>13_x</th>\n",
              "      <th>...</th>\n",
              "      <th>56_y</th>\n",
              "      <th>57_y</th>\n",
              "      <th>58_y</th>\n",
              "      <th>59_y</th>\n",
              "      <th>60_y</th>\n",
              "      <th>61_y</th>\n",
              "      <th>62_y</th>\n",
              "      <th>63_y</th>\n",
              "      <th>64_y</th>\n",
              "      <th>65_y</th>\n",
              "      <th>66_y</th>\n",
              "      <th>67_y</th>\n",
              "      <th>68_y</th>\n",
              "      <th>69_y</th>\n",
              "      <th>70_y</th>\n",
              "      <th>71_y</th>\n",
              "      <th>72_y</th>\n",
              "      <th>73_y</th>\n",
              "      <th>74_y</th>\n",
              "      <th>75_y</th>\n",
              "      <th>76_y</th>\n",
              "      <th>77_y</th>\n",
              "      <th>78_y</th>\n",
              "      <th>79_y</th>\n",
              "      <th>80_y</th>\n",
              "      <th>81_y</th>\n",
              "      <th>82_y</th>\n",
              "      <th>83_y</th>\n",
              "      <th>84_y</th>\n",
              "      <th>85_y</th>\n",
              "      <th>86_y</th>\n",
              "      <th>87_y</th>\n",
              "      <th>88_y</th>\n",
              "      <th>89_y</th>\n",
              "      <th>90_y</th>\n",
              "      <th>91_y</th>\n",
              "      <th>92_y</th>\n",
              "      <th>93_y</th>\n",
              "      <th>94_y</th>\n",
              "      <th>95_y</th>\n",
              "    </tr>\n",
              "  </thead>\n",
              "  <tbody>\n",
              "    <tr>\n",
              "      <th>309789</th>\n",
              "      <td>0.999975</td>\n",
              "      <td>0.499994</td>\n",
              "      <td>0.999975</td>\n",
              "      <td>0.399996</td>\n",
              "      <td>0.999988</td>\n",
              "      <td>0.444442</td>\n",
              "      <td>0.0</td>\n",
              "      <td>1.0</td>\n",
              "      <td>10.0</td>\n",
              "      <td>13.0</td>\n",
              "      <td>100</td>\n",
              "      <td>56</td>\n",
              "      <td>56</td>\n",
              "      <td>89</td>\n",
              "      <td>0.794872</td>\n",
              "      <td>2</td>\n",
              "      <td>1</td>\n",
              "      <td>38</td>\n",
              "      <td>95</td>\n",
              "      <td>8</td>\n",
              "      <td>17</td>\n",
              "      <td>7.0</td>\n",
              "      <td>25.0</td>\n",
              "      <td>0.280000</td>\n",
              "      <td>3</td>\n",
              "      <td>1</td>\n",
              "      <td>23.585322</td>\n",
              "      <td>-22.413330</td>\n",
              "      <td>-15.440597</td>\n",
              "      <td>-50.654099</td>\n",
              "      <td>39.209527</td>\n",
              "      <td>10.812798</td>\n",
              "      <td>27.754324</td>\n",
              "      <td>20.285674</td>\n",
              "      <td>67.271039</td>\n",
              "      <td>72.966933</td>\n",
              "      <td>-9.509754</td>\n",
              "      <td>-26.584586</td>\n",
              "      <td>108.732391</td>\n",
              "      <td>-24.759905</td>\n",
              "      <td>...</td>\n",
              "      <td>124.992435</td>\n",
              "      <td>37.963729</td>\n",
              "      <td>7.334639</td>\n",
              "      <td>-81.936545</td>\n",
              "      <td>160.784137</td>\n",
              "      <td>-81.958696</td>\n",
              "      <td>-35.604068</td>\n",
              "      <td>-0.251743</td>\n",
              "      <td>27.287437</td>\n",
              "      <td>-54.920615</td>\n",
              "      <td>-28.646381</td>\n",
              "      <td>-37.035943</td>\n",
              "      <td>-7.955671</td>\n",
              "      <td>86.999453</td>\n",
              "      <td>-17.384821</td>\n",
              "      <td>6.952293</td>\n",
              "      <td>36.858427</td>\n",
              "      <td>-18.919680</td>\n",
              "      <td>-26.569040</td>\n",
              "      <td>-3.387644</td>\n",
              "      <td>174.427508</td>\n",
              "      <td>-138.717930</td>\n",
              "      <td>-73.181955</td>\n",
              "      <td>81.858924</td>\n",
              "      <td>-29.073381</td>\n",
              "      <td>-14.810930</td>\n",
              "      <td>-19.843113</td>\n",
              "      <td>42.088141</td>\n",
              "      <td>74.242564</td>\n",
              "      <td>-93.556698</td>\n",
              "      <td>46.232128</td>\n",
              "      <td>31.641287</td>\n",
              "      <td>-25.960862</td>\n",
              "      <td>34.800200</td>\n",
              "      <td>35.510327</td>\n",
              "      <td>-41.864063</td>\n",
              "      <td>-37.257481</td>\n",
              "      <td>54.233105</td>\n",
              "      <td>55.656063</td>\n",
              "      <td>64.479729</td>\n",
              "    </tr>\n",
              "    <tr>\n",
              "      <th>378560</th>\n",
              "      <td>0.666644</td>\n",
              "      <td>0.399992</td>\n",
              "      <td>0.599988</td>\n",
              "      <td>0.499992</td>\n",
              "      <td>0.624992</td>\n",
              "      <td>0.454541</td>\n",
              "      <td>1.0</td>\n",
              "      <td>0.0</td>\n",
              "      <td>3.0</td>\n",
              "      <td>9.5</td>\n",
              "      <td>77</td>\n",
              "      <td>70</td>\n",
              "      <td>66</td>\n",
              "      <td>62</td>\n",
              "      <td>0.250000</td>\n",
              "      <td>3</td>\n",
              "      <td>1</td>\n",
              "      <td>47</td>\n",
              "      <td>58</td>\n",
              "      <td>8</td>\n",
              "      <td>11</td>\n",
              "      <td>5.0</td>\n",
              "      <td>19.0</td>\n",
              "      <td>0.263158</td>\n",
              "      <td>4</td>\n",
              "      <td>2</td>\n",
              "      <td>-0.563187</td>\n",
              "      <td>28.403337</td>\n",
              "      <td>23.530780</td>\n",
              "      <td>-30.862179</td>\n",
              "      <td>70.198143</td>\n",
              "      <td>24.578554</td>\n",
              "      <td>68.415937</td>\n",
              "      <td>50.497543</td>\n",
              "      <td>46.162173</td>\n",
              "      <td>103.300524</td>\n",
              "      <td>-16.213148</td>\n",
              "      <td>-15.805056</td>\n",
              "      <td>9.196450</td>\n",
              "      <td>10.343266</td>\n",
              "      <td>...</td>\n",
              "      <td>6.180425</td>\n",
              "      <td>28.333418</td>\n",
              "      <td>30.493693</td>\n",
              "      <td>66.904372</td>\n",
              "      <td>70.330657</td>\n",
              "      <td>-108.041607</td>\n",
              "      <td>46.733539</td>\n",
              "      <td>52.409196</td>\n",
              "      <td>-3.474926</td>\n",
              "      <td>-63.482021</td>\n",
              "      <td>5.147655</td>\n",
              "      <td>-122.813279</td>\n",
              "      <td>11.244903</td>\n",
              "      <td>53.067445</td>\n",
              "      <td>-51.652005</td>\n",
              "      <td>-17.961239</td>\n",
              "      <td>-3.982186</td>\n",
              "      <td>-48.717544</td>\n",
              "      <td>25.737613</td>\n",
              "      <td>-68.817947</td>\n",
              "      <td>116.323112</td>\n",
              "      <td>-18.595823</td>\n",
              "      <td>-48.229588</td>\n",
              "      <td>-23.861889</td>\n",
              "      <td>-25.464339</td>\n",
              "      <td>-46.118747</td>\n",
              "      <td>-42.744757</td>\n",
              "      <td>64.096377</td>\n",
              "      <td>15.510401</td>\n",
              "      <td>-7.236570</td>\n",
              "      <td>5.917221</td>\n",
              "      <td>27.723262</td>\n",
              "      <td>-38.082051</td>\n",
              "      <td>60.517284</td>\n",
              "      <td>-54.563155</td>\n",
              "      <td>-27.509547</td>\n",
              "      <td>-56.041159</td>\n",
              "      <td>89.609985</td>\n",
              "      <td>2.977192</td>\n",
              "      <td>7.513101</td>\n",
              "    </tr>\n",
              "    <tr>\n",
              "      <th>217878</th>\n",
              "      <td>0.285710</td>\n",
              "      <td>0.222220</td>\n",
              "      <td>0.000000</td>\n",
              "      <td>0.000000</td>\n",
              "      <td>0.166665</td>\n",
              "      <td>0.133332</td>\n",
              "      <td>0.0</td>\n",
              "      <td>0.0</td>\n",
              "      <td>3.0</td>\n",
              "      <td>13.5</td>\n",
              "      <td>47</td>\n",
              "      <td>47</td>\n",
              "      <td>40</td>\n",
              "      <td>45</td>\n",
              "      <td>0.115385</td>\n",
              "      <td>1</td>\n",
              "      <td>1</td>\n",
              "      <td>77</td>\n",
              "      <td>103</td>\n",
              "      <td>12</td>\n",
              "      <td>15</td>\n",
              "      <td>2.0</td>\n",
              "      <td>26.0</td>\n",
              "      <td>0.076923</td>\n",
              "      <td>2</td>\n",
              "      <td>0</td>\n",
              "      <td>6.384879</td>\n",
              "      <td>4.751372</td>\n",
              "      <td>-120.330473</td>\n",
              "      <td>74.419573</td>\n",
              "      <td>124.638705</td>\n",
              "      <td>181.283338</td>\n",
              "      <td>62.217689</td>\n",
              "      <td>43.265985</td>\n",
              "      <td>44.773264</td>\n",
              "      <td>93.190917</td>\n",
              "      <td>105.210586</td>\n",
              "      <td>-51.096998</td>\n",
              "      <td>214.287195</td>\n",
              "      <td>-138.985280</td>\n",
              "      <td>...</td>\n",
              "      <td>171.861295</td>\n",
              "      <td>-10.144731</td>\n",
              "      <td>6.633622</td>\n",
              "      <td>39.913781</td>\n",
              "      <td>96.197819</td>\n",
              "      <td>20.048517</td>\n",
              "      <td>-15.799338</td>\n",
              "      <td>-4.515205</td>\n",
              "      <td>94.930310</td>\n",
              "      <td>-153.783093</td>\n",
              "      <td>155.108602</td>\n",
              "      <td>-178.674629</td>\n",
              "      <td>-5.939624</td>\n",
              "      <td>112.508500</td>\n",
              "      <td>30.948745</td>\n",
              "      <td>-12.446117</td>\n",
              "      <td>42.720647</td>\n",
              "      <td>-0.819643</td>\n",
              "      <td>19.565993</td>\n",
              "      <td>14.973232</td>\n",
              "      <td>176.425116</td>\n",
              "      <td>-65.126720</td>\n",
              "      <td>-72.915205</td>\n",
              "      <td>42.523952</td>\n",
              "      <td>72.754728</td>\n",
              "      <td>27.858640</td>\n",
              "      <td>81.641325</td>\n",
              "      <td>71.325735</td>\n",
              "      <td>-10.923074</td>\n",
              "      <td>-46.323587</td>\n",
              "      <td>-96.908347</td>\n",
              "      <td>52.720243</td>\n",
              "      <td>40.583012</td>\n",
              "      <td>82.355320</td>\n",
              "      <td>-107.425325</td>\n",
              "      <td>-164.516527</td>\n",
              "      <td>57.166423</td>\n",
              "      <td>-22.790062</td>\n",
              "      <td>103.040779</td>\n",
              "      <td>165.905266</td>\n",
              "    </tr>\n",
              "    <tr>\n",
              "      <th>244590</th>\n",
              "      <td>0.999967</td>\n",
              "      <td>0.599988</td>\n",
              "      <td>0.000000</td>\n",
              "      <td>0.000000</td>\n",
              "      <td>0.599988</td>\n",
              "      <td>0.333330</td>\n",
              "      <td>1.0</td>\n",
              "      <td>0.0</td>\n",
              "      <td>4.0</td>\n",
              "      <td>7.0</td>\n",
              "      <td>85</td>\n",
              "      <td>61</td>\n",
              "      <td>61</td>\n",
              "      <td>83</td>\n",
              "      <td>0.760000</td>\n",
              "      <td>41</td>\n",
              "      <td>16</td>\n",
              "      <td>44</td>\n",
              "      <td>24</td>\n",
              "      <td>9</td>\n",
              "      <td>5</td>\n",
              "      <td>3.0</td>\n",
              "      <td>14.0</td>\n",
              "      <td>0.214286</td>\n",
              "      <td>57</td>\n",
              "      <td>25</td>\n",
              "      <td>-43.494788</td>\n",
              "      <td>-33.385693</td>\n",
              "      <td>-43.743017</td>\n",
              "      <td>-35.771717</td>\n",
              "      <td>17.408318</td>\n",
              "      <td>56.727841</td>\n",
              "      <td>31.427566</td>\n",
              "      <td>25.663380</td>\n",
              "      <td>50.720387</td>\n",
              "      <td>24.886788</td>\n",
              "      <td>36.130734</td>\n",
              "      <td>10.121689</td>\n",
              "      <td>31.934119</td>\n",
              "      <td>-45.371861</td>\n",
              "      <td>...</td>\n",
              "      <td>53.135964</td>\n",
              "      <td>-6.667053</td>\n",
              "      <td>-4.650144</td>\n",
              "      <td>1.626397</td>\n",
              "      <td>56.548367</td>\n",
              "      <td>-44.045760</td>\n",
              "      <td>-30.756923</td>\n",
              "      <td>-10.794494</td>\n",
              "      <td>-3.569536</td>\n",
              "      <td>-2.280027</td>\n",
              "      <td>-34.066723</td>\n",
              "      <td>28.846145</td>\n",
              "      <td>-26.282183</td>\n",
              "      <td>29.053752</td>\n",
              "      <td>-25.022052</td>\n",
              "      <td>30.232313</td>\n",
              "      <td>1.019393</td>\n",
              "      <td>33.244677</td>\n",
              "      <td>-21.769098</td>\n",
              "      <td>-29.489145</td>\n",
              "      <td>48.228246</td>\n",
              "      <td>27.459925</td>\n",
              "      <td>9.982959</td>\n",
              "      <td>36.659338</td>\n",
              "      <td>-9.197661</td>\n",
              "      <td>-21.250447</td>\n",
              "      <td>-25.183320</td>\n",
              "      <td>15.295991</td>\n",
              "      <td>-13.707096</td>\n",
              "      <td>-35.681660</td>\n",
              "      <td>-13.731661</td>\n",
              "      <td>-7.875468</td>\n",
              "      <td>-1.946225</td>\n",
              "      <td>18.728145</td>\n",
              "      <td>13.911552</td>\n",
              "      <td>29.383185</td>\n",
              "      <td>-33.559611</td>\n",
              "      <td>45.859814</td>\n",
              "      <td>-9.512088</td>\n",
              "      <td>20.124012</td>\n",
              "    </tr>\n",
              "    <tr>\n",
              "      <th>125509</th>\n",
              "      <td>0.499988</td>\n",
              "      <td>0.399992</td>\n",
              "      <td>0.333322</td>\n",
              "      <td>0.333322</td>\n",
              "      <td>0.428565</td>\n",
              "      <td>0.333330</td>\n",
              "      <td>0.0</td>\n",
              "      <td>0.0</td>\n",
              "      <td>2.0</td>\n",
              "      <td>8.0</td>\n",
              "      <td>75</td>\n",
              "      <td>60</td>\n",
              "      <td>65</td>\n",
              "      <td>68</td>\n",
              "      <td>0.500000</td>\n",
              "      <td>1</td>\n",
              "      <td>1</td>\n",
              "      <td>65</td>\n",
              "      <td>41</td>\n",
              "      <td>9</td>\n",
              "      <td>7</td>\n",
              "      <td>2.0</td>\n",
              "      <td>15.0</td>\n",
              "      <td>0.133333</td>\n",
              "      <td>2</td>\n",
              "      <td>0</td>\n",
              "      <td>-16.218528</td>\n",
              "      <td>-12.285405</td>\n",
              "      <td>-89.805824</td>\n",
              "      <td>59.311542</td>\n",
              "      <td>67.279373</td>\n",
              "      <td>53.589576</td>\n",
              "      <td>19.005683</td>\n",
              "      <td>-44.857018</td>\n",
              "      <td>104.613082</td>\n",
              "      <td>18.890490</td>\n",
              "      <td>-16.682886</td>\n",
              "      <td>72.316516</td>\n",
              "      <td>91.464680</td>\n",
              "      <td>-50.047234</td>\n",
              "      <td>...</td>\n",
              "      <td>62.608855</td>\n",
              "      <td>56.823354</td>\n",
              "      <td>-6.870033</td>\n",
              "      <td>7.239543</td>\n",
              "      <td>5.505374</td>\n",
              "      <td>-43.866900</td>\n",
              "      <td>36.223627</td>\n",
              "      <td>51.972710</td>\n",
              "      <td>108.778668</td>\n",
              "      <td>-33.133328</td>\n",
              "      <td>105.538984</td>\n",
              "      <td>2.107644</td>\n",
              "      <td>-55.738268</td>\n",
              "      <td>71.947698</td>\n",
              "      <td>-62.500754</td>\n",
              "      <td>-8.533740</td>\n",
              "      <td>44.458475</td>\n",
              "      <td>-4.737460</td>\n",
              "      <td>9.568009</td>\n",
              "      <td>-46.223606</td>\n",
              "      <td>105.754266</td>\n",
              "      <td>-55.693688</td>\n",
              "      <td>-47.899800</td>\n",
              "      <td>35.478085</td>\n",
              "      <td>1.172267</td>\n",
              "      <td>-46.388613</td>\n",
              "      <td>-5.436108</td>\n",
              "      <td>-4.474690</td>\n",
              "      <td>15.867030</td>\n",
              "      <td>-12.966142</td>\n",
              "      <td>-17.354599</td>\n",
              "      <td>-55.652895</td>\n",
              "      <td>-37.083497</td>\n",
              "      <td>34.623201</td>\n",
              "      <td>-16.392702</td>\n",
              "      <td>-8.864518</td>\n",
              "      <td>23.960854</td>\n",
              "      <td>30.983750</td>\n",
              "      <td>5.855330</td>\n",
              "      <td>7.402001</td>\n",
              "    </tr>\n",
              "  </tbody>\n",
              "</table>\n",
              "<p>5 rows × 218 columns</p>\n",
              "</div>"
            ],
            "text/plain": [
              "         cwc_min   cwc_max   csc_min  ...       93_y        94_y        95_y\n",
              "309789  0.999975  0.499994  0.999975  ...  54.233105   55.656063   64.479729\n",
              "378560  0.666644  0.399992  0.599988  ...  89.609985    2.977192    7.513101\n",
              "217878  0.285710  0.222220  0.000000  ... -22.790062  103.040779  165.905266\n",
              "244590  0.999967  0.599988  0.000000  ...  45.859814   -9.512088   20.124012\n",
              "125509  0.499988  0.399992  0.333322  ...  30.983750    5.855330    7.402001\n",
              "\n",
              "[5 rows x 218 columns]"
            ]
          },
          "metadata": {
            "tags": []
          },
          "execution_count": 8
        }
      ]
    },
    {
      "cell_type": "markdown",
      "metadata": {
        "id": "KaWHDzqUtASD"
      },
      "source": [
        "<h2> 4.2 Converting strings to numerics </h2>"
      ]
    },
    {
      "cell_type": "code",
      "metadata": {
        "id": "iLV60gkptASD"
      },
      "source": [
        "# # after we read from sql table each entry was read it as a string\n",
        "# # we convert all the features into numaric before we apply any model\n",
        "# cols = list(data.columns)\n",
        "# for i in cols:\n",
        "#     data[i] = data[i].apply(pd.to_numeric)\n",
        "#     print(i)"
      ],
      "execution_count": null,
      "outputs": []
    },
    {
      "cell_type": "code",
      "metadata": {
        "id": "_LpfQwc9tASJ"
      },
      "source": [
        "# # https://stackoverflow.com/questions/7368789/convert-all-strings-in-a-list-to-int\n",
        "# y_true = list(map(int, y_true.values))"
      ],
      "execution_count": null,
      "outputs": []
    },
    {
      "cell_type": "markdown",
      "metadata": {
        "id": "CuMTqWGutASO"
      },
      "source": [
        "<h2> 4.3 Random train test split( 70:30) </h2>"
      ]
    },
    {
      "cell_type": "code",
      "metadata": {
        "id": "3Rat2obGtASP"
      },
      "source": [
        "X_train,X_test, y_train, y_test = train_test_split(data, y_true, stratify=y_true, test_size=0.3)"
      ],
      "execution_count": 9,
      "outputs": []
    },
    {
      "cell_type": "code",
      "metadata": {
        "id": "1Iw9zCHqtASS",
        "outputId": "27148aae-edc2-4aad-bb2f-35be16cca62d",
        "colab": {
          "base_uri": "https://localhost:8080/",
          "height": 52
        }
      },
      "source": [
        "print(\"Number of data points in train data :\",X_train.shape)\n",
        "print(\"Number of data points in test data :\",X_test.shape)"
      ],
      "execution_count": 10,
      "outputs": [
        {
          "output_type": "stream",
          "text": [
            "Number of data points in train data : (70000, 218)\n",
            "Number of data points in test data : (30000, 218)\n"
          ],
          "name": "stdout"
        }
      ]
    },
    {
      "cell_type": "code",
      "metadata": {
        "id": "0oDV15LJtASY",
        "outputId": "4e9fb2ab-ef61-409e-8903-0b0a0df6c7d1",
        "colab": {
          "base_uri": "https://localhost:8080/",
          "height": 87
        }
      },
      "source": [
        "print(\"-\"*10, \"Distribution of output variable in train data\", \"-\"*10)\n",
        "train_distr = Counter(y_train)\n",
        "train_len = len(y_train)\n",
        "print(\"Class 0: \",int(train_distr[0])/train_len,\"Class 1: \", int(train_distr[1])/train_len)\n",
        "print(\"-\"*10, \"Distribution of output variable in test data\", \"-\"*10)\n",
        "test_distr = Counter(y_test)\n",
        "test_len = len(y_test)\n",
        "print(\"Class 0: \",int(test_distr[0])/test_len, \"Class 1: \",int(test_distr[1])/test_len)"
      ],
      "execution_count": 11,
      "outputs": [
        {
          "output_type": "stream",
          "text": [
            "---------- Distribution of output variable in train data ----------\n",
            "Class 0:  0.6306857142857143 Class 1:  0.3693142857142857\n",
            "---------- Distribution of output variable in test data ----------\n",
            "Class 0:  0.6307 Class 1:  0.3693\n"
          ],
          "name": "stdout"
        }
      ]
    },
    {
      "cell_type": "code",
      "metadata": {
        "id": "XfxcPT6jtASg"
      },
      "source": [
        "# This function plots the confusion matrices given y_i, y_i_hat.\n",
        "def plot_confusion_matrix(test_y, predict_y):\n",
        "    C = confusion_matrix(test_y, predict_y)\n",
        "    # C = 9,9 matrix, each cell (i,j) represents number of points of class i are predicted class j\n",
        "    \n",
        "    A =(((C.T)/(C.sum(axis=1))).T)\n",
        "    #divid each element of the confusion matrix with the sum of elements in that column\n",
        "    \n",
        "    # C = [[1, 2],\n",
        "    #     [3, 4]]\n",
        "    # C.T = [[1, 3],\n",
        "    #        [2, 4]]\n",
        "    # C.sum(axis = 1)  axis=0 corresonds to columns and axis=1 corresponds to rows in two diamensional array\n",
        "    # C.sum(axix =1) = [[3, 7]]\n",
        "    # ((C.T)/(C.sum(axis=1))) = [[1/3, 3/7]\n",
        "    #                           [2/3, 4/7]]\n",
        "\n",
        "    # ((C.T)/(C.sum(axis=1))).T = [[1/3, 2/3]\n",
        "    #                           [3/7, 4/7]]\n",
        "    # sum of row elements = 1\n",
        "    \n",
        "    B =(C/C.sum(axis=0))\n",
        "    #divid each element of the confusion matrix with the sum of elements in that row\n",
        "    # C = [[1, 2],\n",
        "    #     [3, 4]]\n",
        "    # C.sum(axis = 0)  axis=0 corresonds to columns and axis=1 corresponds to rows in two diamensional array\n",
        "    # C.sum(axix =0) = [[4, 6]]\n",
        "    # (C/C.sum(axis=0)) = [[1/4, 2/6],\n",
        "    #                      [3/4, 4/6]] \n",
        "    plt.figure(figsize=(20,4))\n",
        "    \n",
        "    labels = [0,1]\n",
        "    # representing A in heatmap format\n",
        "    cmap=sns.light_palette(\"blue\")\n",
        "    plt.subplot(1, 3, 1)\n",
        "    sns.heatmap(C, annot=True, cmap=cmap, fmt=\".3f\", xticklabels=labels, yticklabels=labels)\n",
        "    plt.xlabel('Predicted Class')\n",
        "    plt.ylabel('Original Class')\n",
        "    plt.title(\"Confusion matrix\")\n",
        "    \n",
        "    plt.subplot(1, 3, 2)\n",
        "    sns.heatmap(B, annot=True, cmap=cmap, fmt=\".3f\", xticklabels=labels, yticklabels=labels)\n",
        "    plt.xlabel('Predicted Class')\n",
        "    plt.ylabel('Original Class')\n",
        "    plt.title(\"Precision matrix\")\n",
        "    \n",
        "    plt.subplot(1, 3, 3)\n",
        "    # representing B in heatmap format\n",
        "    sns.heatmap(A, annot=True, cmap=cmap, fmt=\".3f\", xticklabels=labels, yticklabels=labels)\n",
        "    plt.xlabel('Predicted Class')\n",
        "    plt.ylabel('Original Class')\n",
        "    plt.title(\"Recall matrix\")\n",
        "    \n",
        "    plt.show()"
      ],
      "execution_count": 12,
      "outputs": []
    },
    {
      "cell_type": "markdown",
      "metadata": {
        "id": "UStQJ5F_tASk"
      },
      "source": [
        "<h2> 4.4 Building a random model (Finding worst-case log-loss) </h2>"
      ]
    },
    {
      "cell_type": "code",
      "metadata": {
        "id": "qwMDqcU7tASl",
        "outputId": "3f123ab7-dbb6-49af-ef28-645dbe2ad33c",
        "colab": {
          "base_uri": "https://localhost:8080/",
          "height": 240
        }
      },
      "source": [
        "# we need to generate 9 numbers and the sum of numbers should be 1\n",
        "# one solution is to genarate 9 numbers and divide each of the numbers by their sum\n",
        "# ref: https://stackoverflow.com/a/18662466/4084039\n",
        "# we create a output array that has exactly same size as the CV data\n",
        "predicted_y = np.zeros((test_len,2))\n",
        "for i in range(test_len):\n",
        "    rand_probs = np.random.rand(1,2)\n",
        "    predicted_y[i] = ((rand_probs/sum(sum(rand_probs)))[0])\n",
        "print(\"Log loss on Test Data using Random Model\",log_loss(y_test, predicted_y, eps=1e-15))\n",
        "\n",
        "predicted_y =np.argmax(predicted_y, axis=1)\n",
        "plot_confusion_matrix(y_test, predicted_y)"
      ],
      "execution_count": null,
      "outputs": [
        {
          "output_type": "stream",
          "text": [
            "Log loss on Test Data using Random Model 0.8866010632341209\n"
          ],
          "name": "stdout"
        },
        {
          "output_type": "display_data",
          "data": {
            "image/png": "[encoded data removed]",
            "text/plain": [
              "<Figure size 1440x288 with 6 Axes>"
            ]
          },
          "metadata": {
            "tags": [],
            "needs_background": "light"
          }
        }
      ]
    },
    {
      "cell_type": "markdown",
      "metadata": {
        "id": "YgY29g_qtASq"
      },
      "source": [
        "<h2> 4.4 Logistic Regression with hyperparameter tuning </h2>"
      ]
    },
    {
      "cell_type": "code",
      "metadata": {
        "id": "Wb2tOE3GtASr",
        "outputId": "d9f0436f-005f-4e49-8685-4b586b3b2470",
        "colab": {
          "base_uri": "https://localhost:8080/",
          "height": 677
        }
      },
      "source": [
        "alpha = [10 ** x for x in range(-5, 2)] # hyperparam for SGD classifier.\n",
        "log_error_array=[]\n",
        "for i in alpha:\n",
        "    clf = SGDClassifier(alpha=i, penalty='l2', loss='log', random_state=42)\n",
        "    clf.fit(X_train, y_train)\n",
        "    sig_clf = CalibratedClassifierCV(clf, method=\"sigmoid\")\n",
        "    sig_clf.fit(X_train, y_train)\n",
        "    predict_y = sig_clf.predict_proba(X_test)\n",
        "    log_error_array.append(log_loss(y_test, predict_y, labels=clf.classes_, eps=1e-15))\n",
        "    print('For values of alpha = ', i, \"The log loss is:\",log_loss(y_test, predict_y, labels=clf.classes_, eps=1e-15))\n",
        "\n",
        "fig, ax = plt.subplots()\n",
        "ax.plot(alpha, log_error_array,c='g')\n",
        "for i, txt in enumerate(np.round(log_error_array,3)):\n",
        "    ax.annotate((alpha[i],np.round(txt,3)), (alpha[i],log_error_array[i]))\n",
        "plt.grid()\n",
        "plt.title(\"Cross Validation Error for each alpha\")\n",
        "plt.xlabel(\"Alpha i's\")\n",
        "plt.ylabel(\"Error measure\")\n",
        "plt.show()\n",
        "\n",
        "\n",
        "best_alpha = np.argmin(log_error_array)\n",
        "clf = SGDClassifier(alpha=alpha[best_alpha], penalty='l2', loss='log', random_state=42)\n",
        "clf.fit(X_train, y_train)\n",
        "sig_clf = CalibratedClassifierCV(clf, method=\"sigmoid\")\n",
        "sig_clf.fit(X_train, y_train)\n",
        "\n",
        "predict_y = sig_clf.predict_proba(X_train)\n",
        "print('For values of best alpha = ', alpha[best_alpha], \"The train log loss is:\",log_loss(y_train, predict_y, labels=clf.classes_, eps=1e-15))\n",
        "predict_y = sig_clf.predict_proba(X_test)\n",
        "print('For values of best alpha = ', alpha[best_alpha], \"The test log loss is:\",log_loss(y_test, predict_y, labels=clf.classes_, eps=1e-15))\n",
        "predicted_y =np.argmax(predict_y,axis=1)\n",
        "print(\"Total number of data points :\", len(predicted_y))\n",
        "plot_confusion_matrix(y_test, predicted_y)"
      ],
      "execution_count": null,
      "outputs": [
        {
          "output_type": "stream",
          "text": [
            "For values of alpha =  1e-05 The log loss is: 0.4547753262779799\n",
            "For values of alpha =  0.0001 The log loss is: 0.4633633098331499\n",
            "For values of alpha =  0.001 The log loss is: 0.4613582129654415\n",
            "For values of alpha =  0.01 The log loss is: 0.4486229297116738\n",
            "For values of alpha =  0.1 The log loss is: 0.4604917292678611\n",
            "For values of alpha =  1 The log loss is: 0.49066013968284117\n",
            "For values of alpha =  10 The log loss is: 0.5347736704428755\n"
          ],
          "name": "stdout"
        },
        {
          "output_type": "display_data",
          "data": {
            "image/png": "[encoded data removed]",
            "text/plain": [
              "<Figure size 432x288 with 1 Axes>"
            ]
          },
          "metadata": {
            "tags": [],
            "needs_background": "light"
          }
        },
        {
          "output_type": "stream",
          "text": [
            "For values of best alpha =  0.01 The train log loss is: 0.44377483773770005\n",
            "For values of best alpha =  0.01 The test log loss is: 0.4486229297116738\n",
            "Total number of data points : 30000\n"
          ],
          "name": "stdout"
        },
        {
          "output_type": "display_data",
          "data": {
            "image/png": "[encoded data removed]",
            "text/plain": [
              "<Figure size 1440x288 with 6 Axes>"
            ]
          },
          "metadata": {
            "tags": [],
            "needs_background": "light"
          }
        }
      ]
    },
    {
      "cell_type": "markdown",
      "metadata": {
        "id": "ouQSEnr3tASy"
      },
      "source": [
        "<h2> 4.5 Linear SVM with hyperparameter tuning </h2>"
      ]
    },
    {
      "cell_type": "code",
      "metadata": {
        "id": "AOFfZ5PLtAS0",
        "outputId": "af19fd42-86e0-4706-f34c-07506df23332",
        "colab": {
          "base_uri": "https://localhost:8080/",
          "height": 677
        }
      },
      "source": [
        "alpha = [10 ** x for x in range(-5, 2)] # hyperparam for SGD classifier.\n",
        "\n",
        "log_error_array=[]\n",
        "for i in alpha:\n",
        "    clf = SGDClassifier(alpha=i, penalty='l1', loss='hinge', random_state=42)\n",
        "    clf.fit(X_train, y_train)\n",
        "    sig_clf = CalibratedClassifierCV(clf, method=\"sigmoid\")\n",
        "    sig_clf.fit(X_train, y_train)\n",
        "    predict_y = sig_clf.predict_proba(X_test)\n",
        "    log_error_array.append(log_loss(y_test, predict_y, labels=clf.classes_, eps=1e-15))\n",
        "    print('For values of alpha = ', i, \"The log loss is:\",log_loss(y_test, predict_y, labels=clf.classes_, eps=1e-15))\n",
        "\n",
        "fig, ax = plt.subplots()\n",
        "ax.plot(alpha, log_error_array,c='g')\n",
        "for i, txt in enumerate(np.round(log_error_array,3)):\n",
        "    ax.annotate((alpha[i],np.round(txt,3)), (alpha[i],log_error_array[i]))\n",
        "plt.grid()\n",
        "plt.title(\"Cross Validation Error for each alpha\")\n",
        "plt.xlabel(\"Alpha i's\")\n",
        "plt.ylabel(\"Error measure\")\n",
        "plt.show()\n",
        "\n",
        "\n",
        "best_alpha = np.argmin(log_error_array)\n",
        "clf = SGDClassifier(alpha=alpha[best_alpha], penalty='l1', loss='hinge', random_state=42)\n",
        "clf.fit(X_train, y_train)\n",
        "sig_clf = CalibratedClassifierCV(clf, method=\"sigmoid\")\n",
        "sig_clf.fit(X_train, y_train)\n",
        "\n",
        "predict_y = sig_clf.predict_proba(X_train)\n",
        "print('For values of best alpha = ', alpha[best_alpha], \"The train log loss is:\",log_loss(y_train, predict_y, labels=clf.classes_, eps=1e-15))\n",
        "predict_y = sig_clf.predict_proba(X_test)\n",
        "print('For values of best alpha = ', alpha[best_alpha], \"The test log loss is:\",log_loss(y_test, predict_y, labels=clf.classes_, eps=1e-15))\n",
        "predicted_y =np.argmax(predict_y,axis=1)\n",
        "print(\"Total number of data points :\", len(predicted_y))\n",
        "plot_confusion_matrix(y_test, predicted_y)"
      ],
      "execution_count": null,
      "outputs": [
        {
          "output_type": "stream",
          "text": [
            "For values of alpha =  1e-05 The log loss is: 0.6589556829980715\n",
            "For values of alpha =  0.0001 The log loss is: 0.6589556829980715\n",
            "For values of alpha =  0.001 The log loss is: 0.6119421422174255\n",
            "For values of alpha =  0.01 The log loss is: 0.4879373508538365\n",
            "For values of alpha =  0.1 The log loss is: 0.5531240515821537\n",
            "For values of alpha =  1 The log loss is: 0.6495929218201544\n",
            "For values of alpha =  10 The log loss is: 0.6483936298948335\n"
          ],
          "name": "stdout"
        },
        {
          "output_type": "display_data",
          "data": {
            "image/png": "[encoded data removed]",
            "text/plain": [
              "<Figure size 432x288 with 1 Axes>"
            ]
          },
          "metadata": {
            "tags": [],
            "needs_background": "light"
          }
        },
        {
          "output_type": "stream",
          "text": [
            "For values of best alpha =  0.01 The train log loss is: 0.4788381056376283\n",
            "For values of best alpha =  0.01 The test log loss is: 0.4879373508538365\n",
            "Total number of data points : 30000\n"
          ],
          "name": "stdout"
        },
        {
          "output_type": "display_data",
          "data": {
            "image/png": "[encoded data removed]",
            "text/plain": [
              "<Figure size 1440x288 with 6 Axes>"
            ]
          },
          "metadata": {
            "tags": [],
            "needs_background": "light"
          }
        }
      ]
    },
    {
      "cell_type": "markdown",
      "metadata": {
        "id": "ZhTJgclztAS6"
      },
      "source": [
        "<h2> 4.6 XGBoost </h2>"
      ]
    },
    {
      "cell_type": "code",
      "metadata": {
        "id": "9U367-xetAS7",
        "outputId": "32b4455b-aefb-400b-fe08-98c874362632",
        "colab": {
          "base_uri": "https://localhost:8080/",
          "height": 780
        }
      },
      "source": [
        "import xgboost as xgb\n",
        "import pickle\n",
        "params = {}\n",
        "params['objective'] = 'binary:logistic'\n",
        "params['eval_metric'] = 'logloss'\n",
        "params['eta'] = 0.02\n",
        "params['max_depth'] = 4\n",
        "\n",
        "d_train = xgb.DMatrix(X_train, label=y_train)\n",
        "d_test = xgb.DMatrix(X_test, label=y_test)\n",
        "\n",
        "watchlist = [(d_train, 'train'), (d_test, 'valid')]\n",
        "\n",
        "bst = xgb.train(params, d_train, 400, watchlist, early_stopping_rounds=20, verbose_eval=10)\n"
      ],
      "execution_count": 13,
      "outputs": [
        {
          "output_type": "stream",
          "text": [
            "[0]\ttrain-logloss:0.684634\tvalid-logloss:0.684708\n",
            "Multiple eval metrics have been passed: 'valid-logloss' will be used for early stopping.\n",
            "\n",
            "Will train until valid-logloss hasn't improved in 20 rounds.\n",
            "[10]\ttrain-logloss:0.614811\tvalid-logloss:0.614982\n",
            "[20]\ttrain-logloss:0.563737\tvalid-logloss:0.563988\n",
            "[30]\ttrain-logloss:0.526289\tvalid-logloss:0.526675\n",
            "[40]\ttrain-logloss:0.496766\tvalid-logloss:0.497247\n",
            "[50]\ttrain-logloss:0.473402\tvalid-logloss:0.474175\n",
            "[60]\ttrain-logloss:0.454995\tvalid-logloss:0.455893\n",
            "[70]\ttrain-logloss:0.440321\tvalid-logloss:0.441333\n",
            "[80]\ttrain-logloss:0.428494\tvalid-logloss:0.429639\n",
            "[90]\ttrain-logloss:0.41879\tvalid-logloss:0.420109\n",
            "[100]\ttrain-logloss:0.410765\tvalid-logloss:0.412216\n",
            "[110]\ttrain-logloss:0.404067\tvalid-logloss:0.405635\n",
            "[120]\ttrain-logloss:0.398475\tvalid-logloss:0.400225\n",
            "[130]\ttrain-logloss:0.393649\tvalid-logloss:0.395605\n",
            "[140]\ttrain-logloss:0.389545\tvalid-logloss:0.391724\n",
            "[150]\ttrain-logloss:0.386144\tvalid-logloss:0.388516\n",
            "[160]\ttrain-logloss:0.38301\tvalid-logloss:0.385595\n",
            "[170]\ttrain-logloss:0.380338\tvalid-logloss:0.383174\n",
            "[180]\ttrain-logloss:0.377913\tvalid-logloss:0.380967\n",
            "[190]\ttrain-logloss:0.375655\tvalid-logloss:0.378902\n",
            "[200]\ttrain-logloss:0.373765\tvalid-logloss:0.377268\n",
            "[210]\ttrain-logloss:0.371874\tvalid-logloss:0.375573\n",
            "[220]\ttrain-logloss:0.37006\tvalid-logloss:0.373951\n",
            "[230]\ttrain-logloss:0.368321\tvalid-logloss:0.37243\n",
            "[240]\ttrain-logloss:0.366797\tvalid-logloss:0.371103\n",
            "[250]\ttrain-logloss:0.365249\tvalid-logloss:0.369793\n",
            "[260]\ttrain-logloss:0.363659\tvalid-logloss:0.368414\n",
            "[270]\ttrain-logloss:0.362471\tvalid-logloss:0.36747\n",
            "[280]\ttrain-logloss:0.361166\tvalid-logloss:0.366397\n",
            "[290]\ttrain-logloss:0.359989\tvalid-logloss:0.365461\n",
            "[300]\ttrain-logloss:0.358902\tvalid-logloss:0.364628\n",
            "[310]\ttrain-logloss:0.35771\tvalid-logloss:0.363706\n",
            "[320]\ttrain-logloss:0.356589\tvalid-logloss:0.362833\n",
            "[330]\ttrain-logloss:0.355474\tvalid-logloss:0.362019\n",
            "[340]\ttrain-logloss:0.354448\tvalid-logloss:0.36125\n",
            "[350]\ttrain-logloss:0.353364\tvalid-logloss:0.360473\n",
            "[360]\ttrain-logloss:0.352328\tvalid-logloss:0.359683\n",
            "[370]\ttrain-logloss:0.351298\tvalid-logloss:0.358918\n",
            "[380]\ttrain-logloss:0.350266\tvalid-logloss:0.358197\n",
            "[390]\ttrain-logloss:0.349386\tvalid-logloss:0.357542\n",
            "[399]\ttrain-logloss:0.348578\tvalid-logloss:0.356965\n"
          ],
          "name": "stdout"
        }
      ]
    },
    {
      "cell_type": "code",
      "metadata": {
        "id": "vGXhIkxwG8YS"
      },
      "source": [
        "bst.save_model('/content/drive/My Drive/xgboost_dmatrix_quora_model.model')"
      ],
      "execution_count": 14,
      "outputs": []
    },
    {
      "cell_type": "code",
      "metadata": {
        "id": "mGJSZfrQvxIC"
      },
      "source": [
        "xgdmat = xgb.DMatrix(X_train,y_train)\n",
        "predict_y = bst.predict(d_test)"
      ],
      "execution_count": 15,
      "outputs": []
    },
    {
      "cell_type": "code",
      "metadata": {
        "id": "5NLJdqpbG5vf",
        "outputId": "7a2e66d5-e804-4f8f-8bd4-4f3c9422a8d3",
        "colab": {
          "base_uri": "https://localhost:8080/",
          "height": 35
        }
      },
      "source": [
        "print(d_test)"
      ],
      "execution_count": 16,
      "outputs": [
        {
          "output_type": "stream",
          "text": [
            "<xgboost.core.DMatrix object at 0x7fe6ab1f7ef0>\n"
          ],
          "name": "stdout"
        }
      ]
    },
    {
      "cell_type": "code",
      "metadata": {
        "id": "NxkcCFqTvuZl",
        "outputId": "a6a593fc-e361-499f-ae88-7b66a24d769e",
        "colab": {
          "base_uri": "https://localhost:8080/",
          "height": 35
        }
      },
      "source": [
        "print(\"The test log loss is:\",log_loss(y_test, predict_y, eps=1e-15))"
      ],
      "execution_count": 17,
      "outputs": [
        {
          "output_type": "stream",
          "text": [
            "The test log loss is: 0.3569660794818328\n"
          ],
          "name": "stdout"
        }
      ]
    },
    {
      "cell_type": "code",
      "metadata": {
        "id": "6U5b17AatAS_",
        "outputId": "87601744-d4b2-4b3a-99ac-a4dbfa4fddc7",
        "colab": {
          "base_uri": "https://localhost:8080/",
          "height": 243
        }
      },
      "source": [
        "predicted_y =np.array(predict_y>0.5,dtype=int)\n",
        "print(\"Total number of data points :\", len(predicted_y))\n",
        "plot_confusion_matrix(y_test, predicted_y)"
      ],
      "execution_count": 18,
      "outputs": [
        {
          "output_type": "stream",
          "text": [
            "Total number of data points : 30000\n"
          ],
          "name": "stdout"
        },
        {
          "output_type": "display_data",
          "data": {
            "image/png": "[encoded data removed]",
            "text/plain": [
              "<Figure size 1440x288 with 6 Axes>"
            ]
          },
          "metadata": {
            "tags": [],
            "needs_background": "light"
          }
        }
      ]
    },
    {
      "cell_type": "markdown",
      "metadata": {
        "id": "WmiIgHOJtATF"
      },
      "source": [
        "<h1> 5. Assignments </h1>"
      ]
    },
    {
      "cell_type": "markdown",
      "metadata": {
        "id": "CWS6JoB0tATF"
      },
      "source": [
        "1. Try out models (Logistic regression, Linear-SVM) with simple TF-IDF vectors instead of TD_IDF weighted word2Vec.\n",
        "2. Perform hyperparameter tuning  of XgBoost models using RandomsearchCV with vectorizer as TF-IDF W2V  to reduce the log-loss.\n",
        "\n"
      ]
    },
    {
      "cell_type": "code",
      "metadata": {
        "id": "nz_zT4bYUNMR",
        "outputId": "4e3ee0a4-a004-44be-ae2b-958479a53525",
        "colab": {
          "base_uri": "https://localhost:8080/",
          "height": 211
        }
      },
      "source": [
        "!pip install distance"
      ],
      "execution_count": 20,
      "outputs": [
        {
          "output_type": "stream",
          "text": [
            "Collecting distance\n",
            "\u001b[?25l  Downloading https://files.pythonhosted.org/packages/5c/1a/883e47df323437aefa0d0a92ccfb38895d9416bd0b56262c2e46a47767b8/Distance-0.1.3.tar.gz (180kB)\n",
            "\r\u001b[K     |█▉                              | 10kB 9.1MB/s eta 0:00:01\r\u001b[K     |███▋                            | 20kB 1.7MB/s eta 0:00:01\r\u001b[K     |█████▌                          | 30kB 2.2MB/s eta 0:00:01\r\u001b[K     |███████▎                        | 40kB 2.5MB/s eta 0:00:01\r\u001b[K     |█████████                       | 51kB 2.0MB/s eta 0:00:01\r\u001b[K     |███████████                     | 61kB 2.3MB/s eta 0:00:01\r\u001b[K     |████████████▊                   | 71kB 2.5MB/s eta 0:00:01\r\u001b[K     |██████████████▌                 | 81kB 2.7MB/s eta 0:00:01\r\u001b[K     |████████████████▍               | 92kB 2.9MB/s eta 0:00:01\r\u001b[K     |██████████████████▏             | 102kB 2.8MB/s eta 0:00:01\r\u001b[K     |████████████████████            | 112kB 2.8MB/s eta 0:00:01\r\u001b[K     |█████████████████████▉          | 122kB 2.8MB/s eta 0:00:01\r\u001b[K     |███████████████████████▋        | 133kB 2.8MB/s eta 0:00:01\r\u001b[K     |█████████████████████████▌      | 143kB 2.8MB/s eta 0:00:01\r\u001b[K     |███████████████████████████▎    | 153kB 2.8MB/s eta 0:00:01\r\u001b[K     |█████████████████████████████   | 163kB 2.8MB/s eta 0:00:01\r\u001b[K     |███████████████████████████████ | 174kB 2.8MB/s eta 0:00:01\r\u001b[K     |████████████████████████████████| 184kB 2.8MB/s \n",
            "\u001b[?25hBuilding wheels for collected packages: distance\n",
            "  Building wheel for distance (setup.py) ... \u001b[?25l\u001b[?25hdone\n",
            "  Created wheel for distance: filename=Distance-0.1.3-cp36-none-any.whl size=16262 sha256=01e0b572673749597d552b1a849a9ddec628ef4762311849b00cacc07cb58f61\n",
            "  Stored in directory: /root/.cache/pip/wheels/d5/aa/e1/dbba9e7b6d397d645d0f12db1c66dbae9c5442b39b001db18e\n",
            "Successfully built distance\n",
            "Installing collected packages: distance\n",
            "Successfully installed distance-0.1.3\n"
          ],
          "name": "stdout"
        }
      ]
    },
    {
      "cell_type": "code",
      "metadata": {
        "id": "NR7DZV55UVVt",
        "outputId": "716b8a72-026b-4269-8703-72ed20d772e5",
        "colab": {
          "base_uri": "https://localhost:8080/",
          "height": 107
        }
      },
      "source": [
        "!pip install fuzzywuzzy"
      ],
      "execution_count": 22,
      "outputs": [
        {
          "output_type": "stream",
          "text": [
            "Collecting fuzzywuzzy\n",
            "  Downloading https://files.pythonhosted.org/packages/43/ff/74f23998ad2f93b945c0309f825be92e04e0348e062026998b5eefef4c33/fuzzywuzzy-0.18.0-py2.py3-none-any.whl\n",
            "Installing collected packages: fuzzywuzzy\n",
            "Successfully installed fuzzywuzzy-0.18.0\n"
          ],
          "name": "stdout"
        }
      ]
    },
    {
      "cell_type": "code",
      "metadata": {
        "id": "XtLljDJuXw5_",
        "outputId": "57c4ee12-b630-4ffc-b22d-90af26fbeb7f",
        "colab": {
          "base_uri": "https://localhost:8080/",
          "height": 87
        }
      },
      "source": [
        "\n",
        "import numpy as np\n",
        "import pickle\n",
        "import nltk\n",
        "import distance\n",
        "from fuzzywuzzy import fuzz\n",
        "from nltk.stem import PorterStemmer\n",
        "from bs4 import BeautifulSoup\n",
        "import re\n",
        "import spacy\n",
        "from nltk.corpus import stopwords\n",
        "import xgboost as xgb\n",
        "nltk.download('stopwords')\n",
        "import warnings\n",
        "warnings.filterwarnings(\"ignore\")\n",
        "STOP_WORDS = stopwords.words(\"english\")\n",
        "SAFE_DIV = 0.0001 \n",
        "\n",
        "\n",
        "\n",
        "#Featurize input query\n",
        "def preprocess(x):\n",
        "    x = str(x).lower()\n",
        "\n",
        "    x = x.replace(\",000,000\", \"m\").replace(\",000\", \"k\").replace(\"′\", \"'\").replace(\"’\", \"'\").replace(\"won't\", \"will not\").replace(\"cannot\", \"can not\").replace(\"can't\", \"can not\").replace(\"n't\", \" not\").replace(\"what's\", \"what is\").replace(\"it's\", \"it is\").replace(\"'ve\", \" have\").replace(\"i'm\", \"i am\").replace(\"'re\", \" are\").replace(\"he's\", \"he is\").replace(\"she's\", \"she is\").replace(\"'s\", \" own\").replace(\"%\", \" percent \").replace(\"₹\", \" rupee \").replace(\"$\", \" dollar \").replace(\"€\", \" euro \").replace(\"'ll\", \" will\")\n",
        "\n",
        "    x = re.sub(r\"([0-9]+)000000\", r\"\\1m\", x)\n",
        "    x = re.sub(r\"([0-9]+)000\", r\"\\1k\", x)\n",
        "\n",
        "\n",
        "    porter = PorterStemmer()\n",
        "    pattern = re.compile('\\W')\n",
        "\n",
        "    if type(x) == type(''):\n",
        "        x = re.sub(pattern, ' ', x)\n",
        "\n",
        "\n",
        "    if type(x) == type(''):\n",
        "        x = porter.stem(x) #Perform stemming\n",
        "        example1 = BeautifulSoup(x) \n",
        "        x = example1.get_text() #Get whole question text\n",
        "\n",
        "\n",
        "    return x\n",
        "\n",
        "def get_token_features(q1, q2):\n",
        "    token_features = [0.0]*10\n",
        "\n",
        "    # Converting the Sentence into Tokens: \n",
        "    q1_tokens = q1.split()\n",
        "    q2_tokens = q2.split()\n",
        "\n",
        "    if len(q1_tokens) == 0 or len(q2_tokens) == 0:\n",
        "        return token_features\n",
        "    # Get the non-stopwords in Questions\n",
        "    q1_words = set([word for word in q1_tokens if word not in STOP_WORDS])\n",
        "    q2_words = set([word for word in q2_tokens if word not in STOP_WORDS])\n",
        "\n",
        "    #Get the stopwords in Questions\n",
        "    q1_stops = set([word for word in q1_tokens if word in STOP_WORDS])\n",
        "    q2_stops = set([word for word in q2_tokens if word in STOP_WORDS])\n",
        "\n",
        "    # Get the common non-stopwords from Question pair\n",
        "    common_word_count = len(q1_words.intersection(q2_words))\n",
        "\n",
        "    # Get the common stopwords from Question pair\n",
        "    common_stop_count = len(q1_stops.intersection(q2_stops))\n",
        "\n",
        "    # Get the common Tokens from Question pair\n",
        "    common_token_count = len(set(q1_tokens).intersection(set(q2_tokens)))\n",
        "\n",
        "\n",
        "    token_features[0] = common_word_count / (min(len(q1_words), len(q2_words)) + SAFE_DIV) #cwc_min\n",
        "    token_features[1] = common_word_count / (max(len(q1_words), len(q2_words)) + SAFE_DIV) #cwc_max\n",
        "    token_features[2] = common_stop_count / (min(len(q1_stops), len(q2_stops)) + SAFE_DIV) #csc_min\n",
        "    token_features[3] = common_stop_count / (max(len(q1_stops), len(q2_stops)) + SAFE_DIV) #csc_max\n",
        "    token_features[4] = common_token_count / (min(len(q1_tokens), len(q2_tokens)) + SAFE_DIV) #ctc_min\n",
        "    token_features[5] = common_token_count / (max(len(q1_tokens), len(q2_tokens)) + SAFE_DIV) #ctc_max\n",
        "\n",
        "    # Last word of both question is same or not\n",
        "    token_features[6] = int(q1_tokens[-1] == q2_tokens[-1]) #last_word_eq\n",
        "\n",
        "    # First word of both question is same or not\n",
        "    token_features[7] = int(q1_tokens[0] == q2_tokens[0]) #first_word_eq\n",
        "\n",
        "    token_features[8] = abs(len(q1_tokens) - len(q2_tokens)) #abs_len_diff\n",
        "\n",
        "    #Average Token Length of both Questions\n",
        "    token_features[9] = (len(q1_tokens) + len(q2_tokens))/2 #mean_len\n",
        "    return token_features\n",
        "\n",
        "\n",
        "\n",
        "def get_longest_substr_ratio(a, b):\n",
        "    strs = list(distance.lcsubstrings(a, b))\n",
        "    if len(strs) == 0:\n",
        "        return 0\n",
        "    else:\n",
        "        return len(strs[0]) / (min(len(a), len(b)) + 1) #longest_substr_ratio\n",
        "\n",
        "def extract_features(q1,q2):\n",
        "    advanced_feature = []\n",
        "\n",
        "    # preprocessing each question\n",
        "    # Removing html tags,punctuations,stemming,stopwords,contractions, and then return the text of question\n",
        "    q1 = preprocess(q1)\n",
        "    q2 = preprocess(q2)\n",
        "\n",
        "\n",
        "    token_features = get_token_features(q1,q2) #token_features is a list.\n",
        "    advanced_feature.extend(token_features)\n",
        "    #cwc_min,cwc_min,csc_min,csc_max,ctc_min,ctc_max,last_word_eq,first_word_eq,abs_len_diff,mean_len\n",
        "\n",
        "    #fuzzy_features\n",
        "    advanced_feature.append(fuzz.token_set_ratio(q1,q2))#token_set_ratio\n",
        "    advanced_feature.append(fuzz.token_sort_ratio(q1,q2))#token_sort_ratio\n",
        "    advanced_feature.append(fuzz.QRatio(q1,q2))#fuzz_ratio\n",
        "    advanced_feature.append(fuzz.partial_ratio(q1,q2))#fuzz_partial_ratio\n",
        "    advanced_feature.append(get_longest_substr_ratio(q1,q2))#longest_substr_ratio\n",
        "\n",
        "    return advanced_feature\n",
        "\n",
        "word2tfidf_pickle_file = \"/content/drive/My Drive/Colab Notebooks/QuoraQuestionPairSimilarity/tfidf_dictionary.pickle\"\n",
        "with open(word2tfidf_pickle_file, 'rb') as handle:\n",
        "    word2tfidf = pickle.load(handle)\n",
        "\n",
        "print(\"len of dictionary --------------{}\".format(len(word2tfidf)))\n",
        "def get_w2v_feat(q,word2tfidf):\n",
        "    word2tfidf = word2tfidf\n",
        "    nlp = spacy.load('en_core_web_sm')\n",
        "    doc1 = nlp(q) \n",
        "    mean_vec1 = np.zeros([len(doc1), len(doc1[0].vector)])\n",
        "    for word1 in doc1:\n",
        "        vec1 = word1.vector\n",
        "        try:\n",
        "            idf = word2tfidf[str(word1)]\n",
        "        except:\n",
        "            idf = 0\n",
        "        mean_vec1 += vec1 * idf\n",
        "    mean_vec1 = mean_vec1.mean(axis=0)\n",
        "    # print(\"shape in ques is {}\".format(mean_vec1.shape))\n",
        "    return mean_vec1\n",
        "\n",
        "\n",
        "\n",
        "def return_feature_vector(ques1, ques2):\n",
        "    \n",
        "    feat_vector = []\n",
        "    \n",
        "    #Advanced Features\n",
        "    feat_vector=np.append(feat_vector,extract_features(ques1,ques2))\n",
        "\n",
        "    #Basic Features\n",
        "    feat_vector = np.append(feat_vector,[0])#freq_qid1\n",
        "    feat_vector=np.append(feat_vector,[0]) #freq_qid2\n",
        "    feat_vector=np.append(feat_vector,[len(ques1)]) #q1len\n",
        "    feat_vector=np.append(feat_vector,[len(ques2)]) #q1len\n",
        "    feat_vector=np.append(feat_vector,[(len(ques1.split(' ')))]) #q1_n_words\n",
        "    feat_vector=np.append(feat_vector,[(len(ques2.split(' ')))]) #q2_n_words\n",
        "    w1 = set(map(lambda word: word.lower().strip(), ques1.split(' ')))\n",
        "    w2 = set(map(lambda word: word.lower().strip(), ques2.split(' ')))    \n",
        "    feat_vector=np.append(feat_vector,[1.0 * len(w1 & w2)]) #word_Common\n",
        "    feat_vector=np.append(feat_vector,[1.0 * (len(w1) + len(w2))]) #word_Total \n",
        "    feat_vector=np.append(feat_vector,[1.0 * len(w1 & w2)/(len(w1) + len(w2))]) #word_share\n",
        "    feat_vector=np.append(feat_vector,[0])#freq_q1+q2\n",
        "    feat_vector=np.append(feat_vector,[0])#freq_q1-q2\n",
        "\n",
        "\n",
        "    #w2vques1\n",
        "    feat_vector=np.append(feat_vector,get_w2v_feat(ques1,word2tfidf))\n",
        "\n",
        "    #w2vques2\n",
        "    feat_vector=np.append(feat_vector,get_w2v_feat(ques2,word2tfidf))\n",
        "\n",
        "    return feat_vector\n",
        "\n",
        "\n",
        "\n",
        "test=return_feature_vector(\"Is solving abacus good for intelligence?\", \"Is abacus an intelligent exercise?\")\n",
        "# test = np.array(test).reshape(1,-1)\n",
        "# print(test)\n",
        "print(type(test))"
      ],
      "execution_count": 47,
      "outputs": [
        {
          "output_type": "stream",
          "text": [
            "[nltk_data] Downloading package stopwords to /root/nltk_data...\n",
            "[nltk_data]   Package stopwords is already up-to-date!\n",
            "len of dictionary --------------109679\n",
            "<class 'numpy.ndarray'>\n"
          ],
          "name": "stdout"
        }
      ]
    },
    {
      "cell_type": "code",
      "metadata": {
        "id": "XNDLGyk-H78z"
      },
      "source": [
        "test = test.tolist()"
      ],
      "execution_count": 48,
      "outputs": []
    },
    {
      "cell_type": "code",
      "metadata": {
        "id": "J0DyirNrH_Nr"
      },
      "source": [
        "lst = [test]"
      ],
      "execution_count": 49,
      "outputs": []
    },
    {
      "cell_type": "code",
      "metadata": {
        "id": "2Sw_oMFsILm2"
      },
      "source": [
        "col_names = list(X_test.columns)"
      ],
      "execution_count": 50,
      "outputs": []
    },
    {
      "cell_type": "code",
      "metadata": {
        "id": "7MD_EB96H_GD"
      },
      "source": [
        "df = pd.DataFrame(lst, columns=col_names)"
      ],
      "execution_count": 51,
      "outputs": []
    },
    {
      "cell_type": "code",
      "metadata": {
        "id": "nTPBJAR4UnUA",
        "outputId": "d4705030-2eff-407f-821c-bffe9ad7acba",
        "colab": {
          "base_uri": "https://localhost:8080/",
          "height": 146
        }
      },
      "source": [
        "df"
      ],
      "execution_count": 52,
      "outputs": [
        {
          "output_type": "execute_result",
          "data": {
            "text/html": [
              "<div>\n",
              "<style scoped>\n",
              "    .dataframe tbody tr th:only-of-type {\n",
              "        vertical-align: middle;\n",
              "    }\n",
              "\n",
              "    .dataframe tbody tr th {\n",
              "        vertical-align: top;\n",
              "    }\n",
              "\n",
              "    .dataframe thead th {\n",
              "        text-align: right;\n",
              "    }\n",
              "</style>\n",
              "<table border=\"1\" class=\"dataframe\">\n",
              "  <thead>\n",
              "    <tr style=\"text-align: right;\">\n",
              "      <th></th>\n",
              "      <th>cwc_min</th>\n",
              "      <th>cwc_max</th>\n",
              "      <th>csc_min</th>\n",
              "      <th>csc_max</th>\n",
              "      <th>ctc_min</th>\n",
              "      <th>ctc_max</th>\n",
              "      <th>last_word_eq</th>\n",
              "      <th>first_word_eq</th>\n",
              "      <th>abs_len_diff</th>\n",
              "      <th>mean_len</th>\n",
              "      <th>token_set_ratio</th>\n",
              "      <th>token_sort_ratio</th>\n",
              "      <th>fuzz_ratio</th>\n",
              "      <th>fuzz_partial_ratio</th>\n",
              "      <th>longest_substr_ratio</th>\n",
              "      <th>freq_qid1</th>\n",
              "      <th>freq_qid2</th>\n",
              "      <th>q1len</th>\n",
              "      <th>q2len</th>\n",
              "      <th>q1_n_words</th>\n",
              "      <th>q2_n_words</th>\n",
              "      <th>word_Common</th>\n",
              "      <th>word_Total</th>\n",
              "      <th>word_share</th>\n",
              "      <th>freq_q1+q2</th>\n",
              "      <th>freq_q1-q2</th>\n",
              "      <th>0_x</th>\n",
              "      <th>1_x</th>\n",
              "      <th>2_x</th>\n",
              "      <th>3_x</th>\n",
              "      <th>4_x</th>\n",
              "      <th>5_x</th>\n",
              "      <th>6_x</th>\n",
              "      <th>7_x</th>\n",
              "      <th>8_x</th>\n",
              "      <th>9_x</th>\n",
              "      <th>10_x</th>\n",
              "      <th>11_x</th>\n",
              "      <th>12_x</th>\n",
              "      <th>13_x</th>\n",
              "      <th>...</th>\n",
              "      <th>56_y</th>\n",
              "      <th>57_y</th>\n",
              "      <th>58_y</th>\n",
              "      <th>59_y</th>\n",
              "      <th>60_y</th>\n",
              "      <th>61_y</th>\n",
              "      <th>62_y</th>\n",
              "      <th>63_y</th>\n",
              "      <th>64_y</th>\n",
              "      <th>65_y</th>\n",
              "      <th>66_y</th>\n",
              "      <th>67_y</th>\n",
              "      <th>68_y</th>\n",
              "      <th>69_y</th>\n",
              "      <th>70_y</th>\n",
              "      <th>71_y</th>\n",
              "      <th>72_y</th>\n",
              "      <th>73_y</th>\n",
              "      <th>74_y</th>\n",
              "      <th>75_y</th>\n",
              "      <th>76_y</th>\n",
              "      <th>77_y</th>\n",
              "      <th>78_y</th>\n",
              "      <th>79_y</th>\n",
              "      <th>80_y</th>\n",
              "      <th>81_y</th>\n",
              "      <th>82_y</th>\n",
              "      <th>83_y</th>\n",
              "      <th>84_y</th>\n",
              "      <th>85_y</th>\n",
              "      <th>86_y</th>\n",
              "      <th>87_y</th>\n",
              "      <th>88_y</th>\n",
              "      <th>89_y</th>\n",
              "      <th>90_y</th>\n",
              "      <th>91_y</th>\n",
              "      <th>92_y</th>\n",
              "      <th>93_y</th>\n",
              "      <th>94_y</th>\n",
              "      <th>95_y</th>\n",
              "    </tr>\n",
              "  </thead>\n",
              "  <tbody>\n",
              "    <tr>\n",
              "      <th>0</th>\n",
              "      <td>0.333322</td>\n",
              "      <td>0.249994</td>\n",
              "      <td>0.499975</td>\n",
              "      <td>0.499975</td>\n",
              "      <td>0.399992</td>\n",
              "      <td>0.333328</td>\n",
              "      <td>0.0</td>\n",
              "      <td>1.0</td>\n",
              "      <td>1.0</td>\n",
              "      <td>5.5</td>\n",
              "      <td>61.0</td>\n",
              "      <td>61.0</td>\n",
              "      <td>64.0</td>\n",
              "      <td>68.0</td>\n",
              "      <td>0.314286</td>\n",
              "      <td>0.0</td>\n",
              "      <td>0.0</td>\n",
              "      <td>40.0</td>\n",
              "      <td>34.0</td>\n",
              "      <td>6.0</td>\n",
              "      <td>5.0</td>\n",
              "      <td>2.0</td>\n",
              "      <td>11.0</td>\n",
              "      <td>0.181818</td>\n",
              "      <td>0.0</td>\n",
              "      <td>0.0</td>\n",
              "      <td>55.787577</td>\n",
              "      <td>19.686155</td>\n",
              "      <td>-32.817027</td>\n",
              "      <td>12.949265</td>\n",
              "      <td>14.737794</td>\n",
              "      <td>0.402795</td>\n",
              "      <td>97.379308</td>\n",
              "      <td>16.571802</td>\n",
              "      <td>-37.323546</td>\n",
              "      <td>46.315463</td>\n",
              "      <td>-24.578892</td>\n",
              "      <td>17.935331</td>\n",
              "      <td>102.776545</td>\n",
              "      <td>-67.810533</td>\n",
              "      <td>...</td>\n",
              "      <td>83.367904</td>\n",
              "      <td>8.859359</td>\n",
              "      <td>3.811632</td>\n",
              "      <td>-9.925888</td>\n",
              "      <td>39.146</td>\n",
              "      <td>-31.15771</td>\n",
              "      <td>61.908774</td>\n",
              "      <td>7.014837</td>\n",
              "      <td>24.735893</td>\n",
              "      <td>-50.368073</td>\n",
              "      <td>43.237857</td>\n",
              "      <td>-38.4592</td>\n",
              "      <td>-32.478643</td>\n",
              "      <td>16.028744</td>\n",
              "      <td>-38.642453</td>\n",
              "      <td>14.749413</td>\n",
              "      <td>26.336465</td>\n",
              "      <td>-34.452927</td>\n",
              "      <td>41.503963</td>\n",
              "      <td>40.082217</td>\n",
              "      <td>78.815172</td>\n",
              "      <td>-20.764108</td>\n",
              "      <td>-3.490225</td>\n",
              "      <td>4.346967</td>\n",
              "      <td>-9.614739</td>\n",
              "      <td>-64.649813</td>\n",
              "      <td>-4.985866</td>\n",
              "      <td>-11.161283</td>\n",
              "      <td>18.317036</td>\n",
              "      <td>-15.281292</td>\n",
              "      <td>-66.827049</td>\n",
              "      <td>12.394191</td>\n",
              "      <td>20.730692</td>\n",
              "      <td>39.185115</td>\n",
              "      <td>9.404115</td>\n",
              "      <td>-0.666866</td>\n",
              "      <td>85.269446</td>\n",
              "      <td>5.730764</td>\n",
              "      <td>-17.178428</td>\n",
              "      <td>40.367039</td>\n",
              "    </tr>\n",
              "  </tbody>\n",
              "</table>\n",
              "<p>1 rows × 218 columns</p>\n",
              "</div>"
            ],
            "text/plain": [
              "    cwc_min   cwc_max   csc_min  ...      93_y       94_y       95_y\n",
              "0  0.333322  0.249994  0.499975  ...  5.730764 -17.178428  40.367039\n",
              "\n",
              "[1 rows x 218 columns]"
            ]
          },
          "metadata": {
            "tags": []
          },
          "execution_count": 52
        }
      ]
    },
    {
      "cell_type": "code",
      "metadata": {
        "id": "5OcnK3b2U2zx"
      },
      "source": [
        "temp = xgb.DMatrix(df)"
      ],
      "execution_count": 53,
      "outputs": []
    },
    {
      "cell_type": "code",
      "metadata": {
        "id": "3lHQXgBnU5Gz",
        "outputId": "9eea1ae2-7c24-417b-d934-18cf43491ef7",
        "colab": {
          "base_uri": "https://localhost:8080/",
          "height": 35
        }
      },
      "source": [
        "bst.predict(temp)"
      ],
      "execution_count": 54,
      "outputs": [
        {
          "output_type": "execute_result",
          "data": {
            "text/plain": [
              "array([0.08084627], dtype=float32)"
            ]
          },
          "metadata": {
            "tags": []
          },
          "execution_count": 54
        }
      ]
    },
    {
      "cell_type": "code",
      "metadata": {
        "id": "0WhCFU6_rw4j"
      },
      "source": [
        ""
      ],
      "execution_count": null,
      "outputs": []
    }
  ]
}